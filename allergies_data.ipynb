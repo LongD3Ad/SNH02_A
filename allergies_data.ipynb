// Allergy data that is analysed using ML

import pandas as pd
import numpy as np
from sklearn.model_selection import train_test_split
from sklearn.preprocessing import LabelEncoder
from sklearn.ensemble import RandomForestClassifier
from sklearn.metrics import accuracy_score, confusion_matrix
import matplotlib.pyplot as plt
import os
import seaborn as sns
import warnings
warnings.filterwarnings('ignore')
from matplotlib import pyplot

df = pd.read_csv("allergies_pop2.csv")
df.head()

df.isnull().sum()

df.columns

# Drop the useless columns
useless_columns = ['START', 'STOP', 'ENCOUNTER', 'CODE', 'SYSTEM', 'REACTION1', 'REACTION2']
df.drop(columns=useless_columns, inplace=True)


df.head()

# Arrange the patient data order according to the patient id in ascending order
df.sort_values(by='PATIENT', inplace=True)

# Print the first few rows of the modified DataFrame
df.head()

#Assigning the data frame to a temp variable
df1 = df

#resetting the index of the data set
df1 = df1.reset_index(drop=True)
df1

df1.rename(columns={"DESCRIPTION": "ALLERGIES"}, inplace=True)

df1.head()

df1

df1['DESCRIPTION'] = df1['DESCRIPTION1'] + df1['DESCRIPTION2'] 

df1.head()

df1['DESCRIPTION'] = df1['DESCRIPTION'].fillna('')


df1.tail()

from sklearn.feature_extraction.text import TfidfVectorizer

vectorizer = TfidfVectorizer()
X = vectorizer.fit_transform(df1['DESCRIPTION'])


y_allergy_or_intolerance = df1['TYPE'].map({'allergy': 0, 'intolerance': 1}).values


**USING SVM FOR MODEL PREDICTION**

from sklearn import svm
from sklearn.model_selection import train_test_split

#Split the dataset into training and testing samples:
X_train, X_test, y_train, y_test = train_test_split(X, y_allergy_or_intolerance, test_size=0.2, random_state=42)

#Create a svm Classifier
clf = svm.SVC(kernel='linear') 

#Train the model using the training sets
clf.fit(X_train, y_train)

#Predict the response for the test dataset
y_pred = clf.predict(X_test)

# Evaluate the performance
from sklearn import metrics
print("Accuracy:",metrics.accuracy_score(y_test, y_pred)*100)

# to predict the specific allergy of a new data point using the trained SVM model:
def predict_specific_allergy(s, vectorizer, model):
    # Convert the text to a vector using the same TF-IDF vectorizer used for training
    s_vectorized = vectorizer.transform([s])
    
    # Predict the specific allergy category for the vectorized text using the trained SVM model
    pred = model.predict(s_vectorized)
    
    # Index the predicted category to get the specific allergy name
    specific_allergy = df1['ALLERGIES'][pred[0]]
    
    return specific_allergy

# Example usage
predicted_allergy = predict_specific_allergy('sample description', vectorizer, clf)
print("Predicted Allergy: ", predicted_allergy)

**USING  Naive Bayes**

from sklearn.feature_extraction.text import TfidfVectorizer
from sklearn.naive_bayes import MultinomialNB
from sklearn.pipeline import make_pipeline

#Splitting the data into training and testing data
train_X, test_X, train_y, test_y = train_test_split(df1['DESCRIPTION'], df1['ALLERGIES'], test_size=0.2, random_state=42)

#building the model
model = make_pipeline(TfidfVectorizer(), MultinomialNB())
model.fit(train_X,train_y)

# Make predictions
labels = model.predict(test_X)

# Print the accuracy
print("Accuracy: ", accuracy_score(test_y, labels)*100)

# to predict the category of a new data point:
def predict_category(s, model=model):
    pred = model.predict([s])
    return pred[0]

print("Predicted Allergy: ", predict_category('sample description'))

df1['DESCRIPTION'].value_counts()

df1['DESCRIPTION'].unique()

import pickle

# Assuming 'your_model' is your trained ML model
your_model = 'allergies_data'

# File path to save the serialized model
file_path = 'your_model.pkl'

# Export the model using pickle
with open(file_path, 'wb') as file:
    pickle.dump(your_model, file)


pip install fastapi


pip install --upgrade pip
