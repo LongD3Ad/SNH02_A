// patient data that was evaluated using ML

import pandas as pd

# Load the dataset from excel
df = pd.read_csv('Result.csv')




df.head()


import pandas as pd

# Assuming your DataFrame is already loaded into 'df'
# Remove duplicates to get unique combinations of trackable_type and trackable_name
df_unique = df.drop_duplicates(subset=['trackable_type', 'trackable_name'])

# Optional: Sort df_unique by 'trackable_type' for easier reading
df_unique = df_unique.sort_values(by=['trackable_type'])

# Create 'unique_names' column - an aggregate of 'trackable_type' and 'trackable_name'
df_unique['unique_names'] = df_unique['trackable_type'] + "_" + df_unique['trackable_name']

# Now you have a DataFrame 'df_unique' contains unique trackable names classified as condition, weather, symptom or tag, 
# and a new column 'unique_names' that holds the aggregate of 'trackable_type' and 'trackable_name' 


df.head()

df.to_csv('new_export_data.csv')

df.head()


df1 = df.loc[~df['trackable_type'].isin(['Weather', 'Tag'])]
df1

grouped_df = df.groupby(['user_id', 'trackable_name']).size().reset_index(name='count')

# Find the condition with the maximum count for each ID
most_recurring_condition = grouped_df.loc[grouped_df.groupby('user_id')['count'].idxmax()]

# Merge the most recurring condition back to the original DataFrame
result_df = pd.merge(df, most_recurring_condition[['user_id', 'trackable_name']], on='user_id', how='left', suffixes=('', '_most_recurring'))

# Rename the new column
result_df = result_df.rename(columns={'trackable_name_most_recurring': 'recurring_illness'})

# Print the modified DataFrame
print("\nModified DataFrame:")
result_df


result_df = result_df[~result_df['trackable_type'].isin(['Weather', 'Tag'])]

result_df

result_df.to_csv('Result.csv')

# Assuming 'result_df' is your DataFrame

# Extract unique recurring illness values
unique_illness_values = result_df['recurring_illness'].drop_duplicates()




# Create a DataFrame with unique values
df1 = pd.DataFrame(unique_illness_values, columns=['recurring_illness'])



